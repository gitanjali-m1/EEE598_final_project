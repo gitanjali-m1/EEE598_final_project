{
  "nbformat": 4,
  "nbformat_minor": 0,
  "metadata": {
    "colab": {
      "provenance": [],
      "gpuType": "T4"
    },
    "kernelspec": {
      "name": "python3",
      "display_name": "Python 3"
    },
    "language_info": {
      "name": "python"
    },
    "accelerator": "GPU"
  },
  "cells": [
    {
      "cell_type": "code",
      "execution_count": 3,
      "metadata": {
        "colab": {
          "base_uri": "https://localhost:8080/"
        },
        "id": "tCfm42twSE81",
        "outputId": "dcb570f2-a19a-411a-b14f-478ace12c5e1"
      },
      "outputs": [
        {
          "output_type": "stream",
          "name": "stdout",
          "text": [
            "55287\n",
            "0.9130458945840964\n",
            "input:   1.53583\n",
            "0.9114169860155029\n",
            "[-8.         -7.99839984 -7.99679968 ...  7.99679968  7.99839984\n",
            "  8.        ]\n",
            "0.007772322122166053\n"
          ]
        }
      ],
      "source": [
        "import numpy as np\n",
        "import matplotlib.pyplot as plt\n",
        "import torch\n",
        "import torch.nn\n",
        "import time\n",
        "import random\n",
        "import math\n",
        "def first_digit_after_decimal(number):\n",
        "\n",
        "    num_str = str(number)\n",
        "\n",
        "    decimal_pos = num_str.find('.')\n",
        "\n",
        "    if decimal_pos == -1:\n",
        "        return None\n",
        "\n",
        "\n",
        "    first_digit = num_str[decimal_pos + 1]\n",
        "\n",
        "\n",
        "    return int(first_digit)\n",
        "\n",
        "\n",
        "def piecewise_tanh(x, input):\n",
        "    # Define the piecewise segments\n",
        "    if (x>=-0.29) and (x<=0.29):\n",
        "      a = input\n",
        "    elif x>1.9:\n",
        "      y = [0,0.956,0.964,0.995,0.9993,0.9999,0.99998,0.999998,0.999999]\n",
        "      a = y[x] - ((x-abs(input)) * (y[x] - y[x-1]))\n",
        "\n",
        "      if(input<-1.9):\n",
        "        a=0-a\n",
        "    else :\n",
        "      array = [0, 0, 0.0651, 0.0643, 0.0628, 0.0606, 0.0582, 0.0557, 0.0530, 0.0503, 0.0476, 0.0449,  0.0423, 0.0397, 0.0373, 0.0350, 0.0329, 0.0309, 0.0290, 0.0272, 0.256]\n",
        "      if(abs(input)<1):\n",
        "        result = first_digit_after_decimal(input)\n",
        "        divisor_reciprocal = array[result] - ((abs(input)*10 - int(abs(input)*10))*(array[result]-array[result+1]))\n",
        "      else:\n",
        "        result = first_digit_after_decimal(input)\n",
        "        divisor_reciprocal = array[result+10] - ((abs(input)*10 - int(abs(input)*10))*(array[result+10]-array[result+11]))\n",
        "\n",
        "      x2 = float(\"{:.4f}\".format(x*x));\n",
        "\n",
        "      a = x * (15 + x2) * divisor_reciprocal\n",
        "\n",
        "    return a\n",
        "\n",
        "piecewise_tanh_vec = np.vectorize(piecewise_tanh)\n",
        "\n",
        "\n",
        "input = round(random.uniform(-8,8),5)\n",
        "if (input>=-1.9 and input<=1.9):\n",
        "  y= input\n",
        "\n",
        "else:\n",
        "  y = int(np.ceil(abs(input)))\n",
        "start_time = time.time_ns()\n",
        "x = piecewise_tanh(y, input)\n",
        "end_time = time.time_ns()\n",
        "\n",
        "print(end_time - start_time)\n",
        "print(x)\n",
        "print(\"input:  \", input)\n",
        "print(math.tanh(input))\n",
        "list1=[]\n",
        "error =[]\n",
        "inputs = np.linspace(-8, 8, 10000)\n",
        "print(inputs)\n",
        "for i in range(0, len(inputs)):\n",
        "  if (inputs[i]>=-1.9 and inputs[i]<=1.9):\n",
        "    y= inputs[i]\n",
        "  else:\n",
        "    y = int(np.ceil(abs(inputs[i])))\n",
        "\n",
        "  approximations = piecewise_tanh(y,inputs[i])\n",
        "  actual_tanh_values = np.tanh(inputs[i])\n",
        "  error.append( np.abs(approximations - actual_tanh_values))\n",
        "max_error = np.max(error)\n",
        "print(max_error)\n",
        "\n",
        "\n"
      ]
    }
  ]
}